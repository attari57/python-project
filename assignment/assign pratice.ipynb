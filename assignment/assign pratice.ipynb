{
 "cells": [
  {
   "cell_type": "code",
   "execution_count": 3,
   "id": "927f64ee",
   "metadata": {},
   "outputs": [
    {
     "name": "stdout",
     "output_type": "stream",
     "text": [
      "Twinkle twinkle litter star\n",
      "        How i wonder what your\n",
      "              Up above the  wolrd what so high\n",
      "              Like a demand in the sky\n",
      "Thinklw twinkle litter star\n",
      "       How i wonder what your are\n"
     ]
    }
   ],
   "source": [
    "print(\"Twinkle twinkle litter star\");\n",
    "print(\"        How i wonder what your\");\n",
    "print(\"              Up above the  wolrd what so high\");\n",
    "print(\"              Like a demand in the sky\");\n",
    "print(\"Thinklw twinkle litter star\");\n",
    "print(\"       How i wonder what your are\");\n"
   ]
  },
  {
   "cell_type": "code",
   "execution_count": 7,
   "id": "b095da90",
   "metadata": {},
   "outputs": [
    {
     "name": "stdout",
     "output_type": "stream",
     "text": [
      "3.9.7 (default, Sep 16 2021, 16:59:28) [MSC v.1916 64 bit (AMD64)]\n"
     ]
    }
   ],
   "source": [
    "import platform;\n",
    "print(platform.sys.version);"
   ]
  },
  {
   "cell_type": "code",
   "execution_count": 11,
   "id": "45a2caea",
   "metadata": {},
   "outputs": [
    {
     "name": "stdout",
     "output_type": "stream",
     "text": [
      "now time is = 2021-12-28 22:03:41.945990\n",
      "Now time and Date is: 28/12/2021  22:03:41 Tuesday\n"
     ]
    }
   ],
   "source": [
    "from datetime import datetime\n",
    "now= datetime.now();\n",
    "print(\"now time is =\",now);\n",
    "dt_strring= now.strftime(\"%d/%m/%Y  %H:%M:%S\");\n",
    "print(\"Now time and Date is:\",dt_strring);"
   ]
  },
  {
   "cell_type": "code",
   "execution_count": null,
   "id": "0d96a2cd",
   "metadata": {},
   "outputs": [],
   "source": []
  }
 ],
 "metadata": {
  "kernelspec": {
   "display_name": "Python 3 (ipykernel)",
   "language": "python",
   "name": "python3"
  },
  "language_info": {
   "codemirror_mode": {
    "name": "ipython",
    "version": 3
   },
   "file_extension": ".py",
   "mimetype": "text/x-python",
   "name": "python",
   "nbconvert_exporter": "python",
   "pygments_lexer": "ipython3",
   "version": "3.9.7"
  }
 },
 "nbformat": 4,
 "nbformat_minor": 5
}
