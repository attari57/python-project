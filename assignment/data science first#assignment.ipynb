{
 "cells": [
  {
   "cell_type": "code",
   "execution_count": 6,
   "id": "b52db8b1",
   "metadata": {},
   "outputs": [
    {
     "name": "stdout",
     "output_type": "stream",
     "text": [
      "Twinkle, twinkle, little star, \n",
      "'\t How I wonder what you are! \n",
      "\t\t Up above the world so high, \n",
      "\t\t Like a diamond in the sky. \n",
      " Twinkle, twinkle, little star, \n",
      "\t How I wonder what you are!\n"
     ]
    }
   ],
   "source": [
    "#print twinkle twinkle\n",
    "print(\"Twinkle, twinkle, little star, \\n'\\t How I wonder what you are! \\n\\t\\t Up above the world so high, \\n\\t\\t Like a diamond in the sky. \\n Twinkle, twinkle, little star, \\n\\t How I wonder what you are!\")"
   ]
  },
  {
   "cell_type": "code",
   "execution_count": 13,
   "id": "8bc1d6a5",
   "metadata": {},
   "outputs": [
    {
     "name": "stdout",
     "output_type": "stream",
     "text": [
      "Current version of python is: 3.9.7 (default, Sep 16 2021, 16:59:28) [MSC v.1916 64 bit (AMD64)]\n"
     ]
    }
   ],
   "source": [
    "#current version of python\n",
    "import sys\n",
    "str1 = print(\"Current version of python is:\" + \" \"+ sys.version);\n",
    "\n",
    "\n"
   ]
  },
  {
   "cell_type": "code",
   "execution_count": 14,
   "id": "99ef40c0",
   "metadata": {},
   "outputs": [
    {
     "name": "stdout",
     "output_type": "stream",
     "text": [
      "current date and time is:\n",
      "2021-12-29 20:15:41\n"
     ]
    }
   ],
   "source": [
    "#current date  time\n",
    "import datetime \n",
    "now_time_date= datetime.datetime.now();\n",
    "print(\"current date and time is:\");\n",
    "print(now_time_date.strftime(\"%Y-%m-%d %H:%M:%S\"));"
   ]
  },
  {
   "cell_type": "code",
   "execution_count": 19,
   "id": "97312a38",
   "metadata": {},
   "outputs": [
    {
     "name": "stdout",
     "output_type": "stream",
     "text": [
      "enter the radious of circle: 1.5\n",
      "the area of the circle with radious 1.5 is: 7.065\n"
     ]
    }
   ],
   "source": [
    "#area of the circle\n",
    "pi=3.14;\n",
    "radious=  float(input(\"enter the radious of circle: \"));\n",
    "print(\"the area of the circle with radious \" + str(radious) + \" is: \" + str(pi*radious**2));"
   ]
  },
  {
   "cell_type": "code",
   "execution_count": null,
   "id": "264d6561",
   "metadata": {},
   "outputs": [],
   "source": [
    "#print name is reverse order\n",
    "first_name= input(\"Enter First Name:\");\n",
    "last_name = input(\"Enter last Name:\");\n",
    "print(last_name+\" \"+ first_name);"
   ]
  },
  {
   "cell_type": "code",
   "execution_count": 26,
   "id": "1735f551",
   "metadata": {},
   "outputs": [
    {
     "name": "stdout",
     "output_type": "stream",
     "text": [
      "please enter first number:12\n",
      "please enter second number:12\n",
      "The addition of numbers is: 24\n"
     ]
    }
   ],
   "source": [
    "#addition of two numbers\n",
    "first_number= int(input(\"please enter first number:\"));\n",
    "second_number= int(input(\"please enter second number:\"));\n",
    "addition= first_number + second_number;\n",
    "\n",
    "print(\"The addition of numbers is:\" + \" \"+ str(addition));\n"
   ]
  },
  {
   "cell_type": "code",
   "execution_count": null,
   "id": "750bbd51",
   "metadata": {},
   "outputs": [],
   "source": []
  }
 ],
 "metadata": {
  "kernelspec": {
   "display_name": "Python 3 (ipykernel)",
   "language": "python",
   "name": "python3"
  },
  "language_info": {
   "codemirror_mode": {
    "name": "ipython",
    "version": 3
   },
   "file_extension": ".py",
   "mimetype": "text/x-python",
   "name": "python",
   "nbconvert_exporter": "python",
   "pygments_lexer": "ipython3",
   "version": "3.9.7"
  }
 },
 "nbformat": 4,
 "nbformat_minor": 5
}
